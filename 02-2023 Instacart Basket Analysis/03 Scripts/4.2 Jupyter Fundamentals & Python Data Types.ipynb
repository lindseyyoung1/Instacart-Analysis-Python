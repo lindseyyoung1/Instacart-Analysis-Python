{
 "cells": [
  {
   "cell_type": "markdown",
   "id": "1d8688cb",
   "metadata": {},
   "source": [
    "# Contents\n",
    "\n",
    "1. Importing libraries and files\n",
    "\n",
    "2. Working with Python Data Types\n",
    "    - 2.1 By +/- operators\n",
    "    - 2.2 BY / operator\n",
    "    - 2.3 Constructing a short word made of separate strings\n",
    "    - 2.4 Constructing two short sentences made of separate strings\n",
    " "
   ]
  },
  {
   "cell_type": "markdown",
   "id": "3e9b7084",
   "metadata": {},
   "source": [
    "# 1. Importing  Libraries and Files"
   ]
  },
  {
   "cell_type": "code",
   "execution_count": 2,
   "id": "b75ce5d3",
   "metadata": {},
   "outputs": [],
   "source": [
    "#Import Libraries\n",
    "import pandas as pd\n",
    "import numpy as np\n",
    "import os"
   ]
  },
  {
   "cell_type": "markdown",
   "id": "ed3176be",
   "metadata": {},
   "source": [
    "# 2. Working with Python Data Types"
   ]
  },
  {
   "cell_type": "markdown",
   "id": "76ee88b2",
   "metadata": {},
   "source": [
    "#### Three different ways of reaching a result of 100 by adding or subtracting numeric variables."
   ]
  },
  {
   "cell_type": "markdown",
   "id": "50493543",
   "metadata": {},
   "source": [
    "## 2.1 By +/- operators"
   ]
  },
  {
   "cell_type": "code",
   "execution_count": 3,
   "id": "53224aef",
   "metadata": {},
   "outputs": [],
   "source": [
    "x=75"
   ]
  },
  {
   "cell_type": "code",
   "execution_count": 4,
   "id": "4ad7b069",
   "metadata": {},
   "outputs": [],
   "source": [
    "y=25"
   ]
  },
  {
   "cell_type": "code",
   "execution_count": 5,
   "id": "b7afb73c",
   "metadata": {},
   "outputs": [
    {
     "data": {
      "text/plain": [
       "100"
      ]
     },
     "execution_count": 5,
     "metadata": {},
     "output_type": "execute_result"
    }
   ],
   "source": [
    "x+y"
   ]
  },
  {
   "cell_type": "code",
   "execution_count": 6,
   "id": "4ed6797f",
   "metadata": {},
   "outputs": [],
   "source": [
    "x=100"
   ]
  },
  {
   "cell_type": "code",
   "execution_count": 7,
   "id": "651f1386",
   "metadata": {},
   "outputs": [],
   "source": [
    "y=0"
   ]
  },
  {
   "cell_type": "code",
   "execution_count": 8,
   "id": "6057154f",
   "metadata": {},
   "outputs": [
    {
     "data": {
      "text/plain": [
       "100"
      ]
     },
     "execution_count": 8,
     "metadata": {},
     "output_type": "execute_result"
    }
   ],
   "source": [
    "x-y"
   ]
  },
  {
   "cell_type": "code",
   "execution_count": 9,
   "id": "9ff585e7",
   "metadata": {},
   "outputs": [],
   "source": [
    "x=699"
   ]
  },
  {
   "cell_type": "code",
   "execution_count": 10,
   "id": "34101090",
   "metadata": {},
   "outputs": [],
   "source": [
    "y=599"
   ]
  },
  {
   "cell_type": "code",
   "execution_count": 11,
   "id": "7ff6b9a5",
   "metadata": {},
   "outputs": [
    {
     "data": {
      "text/plain": [
       "100"
      ]
     },
     "execution_count": 11,
     "metadata": {},
     "output_type": "execute_result"
    }
   ],
   "source": [
    "x-y"
   ]
  },
  {
   "cell_type": "markdown",
   "id": "4fa9733a",
   "metadata": {},
   "source": [
    "## 2.2  By / operator"
   ]
  },
  {
   "cell_type": "code",
   "execution_count": 12,
   "id": "5a48c29c",
   "metadata": {},
   "outputs": [],
   "source": [
    "x=5.236"
   ]
  },
  {
   "cell_type": "code",
   "execution_count": 13,
   "id": "53e91d4b",
   "metadata": {},
   "outputs": [],
   "source": [
    "y=2.11"
   ]
  },
  {
   "cell_type": "code",
   "execution_count": 14,
   "id": "28eb11a7",
   "metadata": {},
   "outputs": [
    {
     "data": {
      "text/plain": [
       "2.481516587677725"
      ]
     },
     "execution_count": 14,
     "metadata": {},
     "output_type": "execute_result"
    }
   ],
   "source": [
    "x/y"
   ]
  },
  {
   "cell_type": "markdown",
   "id": "1c542bff",
   "metadata": {},
   "source": [
    "## 2.3 Constructing a short word made of separate strings"
   ]
  },
  {
   "cell_type": "code",
   "execution_count": 22,
   "id": "6d9fbb92",
   "metadata": {},
   "outputs": [],
   "source": [
    "x='Amer'"
   ]
  },
  {
   "cell_type": "code",
   "execution_count": 23,
   "id": "7d2e4f12",
   "metadata": {},
   "outputs": [],
   "source": [
    "y='ica'"
   ]
  },
  {
   "cell_type": "code",
   "execution_count": 24,
   "id": "0afa2308",
   "metadata": {},
   "outputs": [
    {
     "data": {
      "text/plain": [
       "'America'"
      ]
     },
     "execution_count": 24,
     "metadata": {},
     "output_type": "execute_result"
    }
   ],
   "source": [
    "x+y"
   ]
  },
  {
   "cell_type": "markdown",
   "id": "367bf92a",
   "metadata": {},
   "source": [
    "## 2.4 Constructing two short sentences made of separate strings"
   ]
  },
  {
   "cell_type": "code",
   "execution_count": 28,
   "id": "a9e6c71a",
   "metadata": {},
   "outputs": [],
   "source": [
    "x='I went to '"
   ]
  },
  {
   "cell_type": "code",
   "execution_count": 29,
   "id": "c07d6e4a",
   "metadata": {},
   "outputs": [],
   "source": [
    "y='the store yesterday.'"
   ]
  },
  {
   "cell_type": "code",
   "execution_count": 30,
   "id": "5501f80c",
   "metadata": {},
   "outputs": [
    {
     "data": {
      "text/plain": [
       "'I went to the store yesterday.'"
      ]
     },
     "execution_count": 30,
     "metadata": {},
     "output_type": "execute_result"
    }
   ],
   "source": [
    "x+y"
   ]
  },
  {
   "cell_type": "code",
   "execution_count": 31,
   "id": "27525a94",
   "metadata": {},
   "outputs": [],
   "source": [
    "x= 'What time is '"
   ]
  },
  {
   "cell_type": "code",
   "execution_count": 32,
   "id": "5a3ce7e8",
   "metadata": {},
   "outputs": [],
   "source": [
    "y= 'the basketball game?'"
   ]
  },
  {
   "cell_type": "code",
   "execution_count": 33,
   "id": "fd59b753",
   "metadata": {
    "scrolled": true
   },
   "outputs": [
    {
     "data": {
      "text/plain": [
       "'What time is the basketball game?'"
      ]
     },
     "execution_count": 33,
     "metadata": {},
     "output_type": "execute_result"
    }
   ],
   "source": [
    "x+y"
   ]
  }
 ],
 "metadata": {
  "kernelspec": {
   "display_name": "Python 3 (ipykernel)",
   "language": "python",
   "name": "python3"
  },
  "language_info": {
   "codemirror_mode": {
    "name": "ipython",
    "version": 3
   },
   "file_extension": ".py",
   "mimetype": "text/x-python",
   "name": "python",
   "nbconvert_exporter": "python",
   "pygments_lexer": "ipython3",
   "version": "3.9.13"
  }
 },
 "nbformat": 4,
 "nbformat_minor": 5
}
